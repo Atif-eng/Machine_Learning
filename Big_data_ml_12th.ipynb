{
 "cells": [
  {
   "cell_type": "markdown",
   "id": "5a4882a3",
   "metadata": {},
   "source": [
    "# Big Data "
   ]
  },
  {
   "cell_type": "markdown",
   "id": "e8565d79",
   "metadata": {},
   "source": [
    "Diamonds Data"
   ]
  },
  {
   "cell_type": "code",
   "execution_count": 2,
   "id": "b1503519",
   "metadata": {},
   "outputs": [],
   "source": [
    "import seaborn as sns\n",
    "\n",
    "# Data Pipelines\n",
    "from sklearn.pipeline import Pipeline\n",
    "from sklearn.compose import ColumnTransformer\n",
    "\n",
    "# Data preprossing \n",
    "from sklearn.preprocessing import StandardScaler,OneHotEncoder\n",
    "from sklearn.model_selection import train_test_split\n",
    "\n",
    "# models\n",
    "from sklearn.linear_model import LinearRegression\n",
    "from sklearn.tree import DecisionTreeRegressor\n",
    "from sklearn.ensemble import RandomForestRegressor\n",
    "from xgboost import XGBRegressor\n",
    "\n",
    "# metrics\n",
    "from sklearn.metrics import mean_absolute_error,mean_absolute_percentage_error,root_mean_squared_error,r2_score,mean_squared_error\n"
   ]
  },
  {
   "cell_type": "code",
   "execution_count": 3,
   "id": "d5e19596",
   "metadata": {},
   "outputs": [
    {
     "data": {
      "text/html": [
       "<div>\n",
       "<style scoped>\n",
       "    .dataframe tbody tr th:only-of-type {\n",
       "        vertical-align: middle;\n",
       "    }\n",
       "\n",
       "    .dataframe tbody tr th {\n",
       "        vertical-align: top;\n",
       "    }\n",
       "\n",
       "    .dataframe thead th {\n",
       "        text-align: right;\n",
       "    }\n",
       "</style>\n",
       "<table border=\"1\" class=\"dataframe\">\n",
       "  <thead>\n",
       "    <tr style=\"text-align: right;\">\n",
       "      <th></th>\n",
       "      <th>carat</th>\n",
       "      <th>cut</th>\n",
       "      <th>color</th>\n",
       "      <th>clarity</th>\n",
       "      <th>depth</th>\n",
       "      <th>table</th>\n",
       "      <th>price</th>\n",
       "      <th>x</th>\n",
       "      <th>y</th>\n",
       "      <th>z</th>\n",
       "    </tr>\n",
       "  </thead>\n",
       "  <tbody>\n",
       "    <tr>\n",
       "      <th>0</th>\n",
       "      <td>0.23</td>\n",
       "      <td>Ideal</td>\n",
       "      <td>E</td>\n",
       "      <td>SI2</td>\n",
       "      <td>61.5</td>\n",
       "      <td>55.0</td>\n",
       "      <td>326</td>\n",
       "      <td>3.95</td>\n",
       "      <td>3.98</td>\n",
       "      <td>2.43</td>\n",
       "    </tr>\n",
       "    <tr>\n",
       "      <th>1</th>\n",
       "      <td>0.21</td>\n",
       "      <td>Premium</td>\n",
       "      <td>E</td>\n",
       "      <td>SI1</td>\n",
       "      <td>59.8</td>\n",
       "      <td>61.0</td>\n",
       "      <td>326</td>\n",
       "      <td>3.89</td>\n",
       "      <td>3.84</td>\n",
       "      <td>2.31</td>\n",
       "    </tr>\n",
       "    <tr>\n",
       "      <th>2</th>\n",
       "      <td>0.23</td>\n",
       "      <td>Good</td>\n",
       "      <td>E</td>\n",
       "      <td>VS1</td>\n",
       "      <td>56.9</td>\n",
       "      <td>65.0</td>\n",
       "      <td>327</td>\n",
       "      <td>4.05</td>\n",
       "      <td>4.07</td>\n",
       "      <td>2.31</td>\n",
       "    </tr>\n",
       "    <tr>\n",
       "      <th>3</th>\n",
       "      <td>0.29</td>\n",
       "      <td>Premium</td>\n",
       "      <td>I</td>\n",
       "      <td>VS2</td>\n",
       "      <td>62.4</td>\n",
       "      <td>58.0</td>\n",
       "      <td>334</td>\n",
       "      <td>4.20</td>\n",
       "      <td>4.23</td>\n",
       "      <td>2.63</td>\n",
       "    </tr>\n",
       "    <tr>\n",
       "      <th>4</th>\n",
       "      <td>0.31</td>\n",
       "      <td>Good</td>\n",
       "      <td>J</td>\n",
       "      <td>SI2</td>\n",
       "      <td>63.3</td>\n",
       "      <td>58.0</td>\n",
       "      <td>335</td>\n",
       "      <td>4.34</td>\n",
       "      <td>4.35</td>\n",
       "      <td>2.75</td>\n",
       "    </tr>\n",
       "  </tbody>\n",
       "</table>\n",
       "</div>"
      ],
      "text/plain": [
       "   carat      cut color clarity  depth  table  price     x     y     z\n",
       "0   0.23    Ideal     E     SI2   61.5   55.0    326  3.95  3.98  2.43\n",
       "1   0.21  Premium     E     SI1   59.8   61.0    326  3.89  3.84  2.31\n",
       "2   0.23     Good     E     VS1   56.9   65.0    327  4.05  4.07  2.31\n",
       "3   0.29  Premium     I     VS2   62.4   58.0    334  4.20  4.23  2.63\n",
       "4   0.31     Good     J     SI2   63.3   58.0    335  4.34  4.35  2.75"
      ]
     },
     "execution_count": 3,
     "metadata": {},
     "output_type": "execute_result"
    }
   ],
   "source": [
    "df=sns.load_dataset('diamonds')\n",
    "df.head()"
   ]
  },
  {
   "cell_type": "code",
   "execution_count": 4,
   "id": "6fa54e38",
   "metadata": {},
   "outputs": [],
   "source": [
    "x=df.drop('price',axis=1)\n",
    "y=df['price']"
   ]
  },
  {
   "cell_type": "code",
   "execution_count": 5,
   "id": "f2ba0025",
   "metadata": {},
   "outputs": [
    {
     "name": "stdout",
     "output_type": "stream",
     "text": [
      "MSE:  302912.0102705799\n",
      "r2_score:  0.9809451209350672\n",
      "MAE:  270.55287626132207\n",
      "MAPE:  0.0648913261405697\n",
      "RMSE:  550.3744273406786\n"
     ]
    }
   ],
   "source": [
    "numeric_feature=['carat','depth','table','x','y','z']\n",
    "categoric_feature=['cut','color','clarity']\n",
    "\n",
    "# train test split\n",
    "x_train,x_test,y_train,y_test=train_test_split(x,y,test_size=0.2,random_state=42)\n",
    "\n",
    "processor=ColumnTransformer(\n",
    "    transformers=[\n",
    "        ('num',StandardScaler(),numeric_feature),\n",
    "        ('cat',OneHotEncoder(),categoric_feature)\n",
    "    ])\n",
    "\n",
    "pipeline=Pipeline(\n",
    "    steps=[\n",
    "        ('processor',processor),\n",
    "        ('model',RandomForestRegressor())\n",
    "    ])\n",
    "\n",
    "pipeline.fit(x_train,y_train)\n",
    "y_pred=pipeline.predict(x_test)\n",
    "\n",
    "print('MSE: ',mean_squared_error(y_test,y_pred))\n",
    "print('r2_score: ',r2_score(y_test,y_pred))\n",
    "print('MAE: ',mean_absolute_error(y_test,y_pred))\n",
    "print('MAPE: ',mean_absolute_percentage_error(y_test,y_pred))\n",
    "print('RMSE: ',root_mean_squared_error(y_test,y_pred))\n"
   ]
  },
  {
   "cell_type": "markdown",
   "id": "27dc7c1c",
   "metadata": {},
   "source": [
    "# LinearRegression\n",
    "- MSE:  1288705.4778516763\n",
    "- r2_score:  0.9189331350419386\n",
    "- MAE:  737.1513665933285\n",
    "- MAPE:  0.3952933516494362\n",
    "- RMSE:  1135.2116445190634"
   ]
  },
  {
   "cell_type": "markdown",
   "id": "934773f1",
   "metadata": {},
   "source": [
    "# DecisionTreeRegressor\n",
    "- MSE:  544063.468970152\n",
    "- r2_score:  0.9657753299527031\n",
    "- MAE:  356.902808676307\n",
    "- MAPE:  0.085626470477801\n",
    "- RMSE:  737.6065814308818"
   ]
  },
  {
   "cell_type": "markdown",
   "id": "10fd6df1",
   "metadata": {},
   "source": [
    "# RandomForestRegressor\n",
    "- MSE:  304919.0996561165\n",
    "- r2_score:  0.9808188636583097\n",
    "- MAE:  270.92070295478214\n",
    "- MAPE:  0.06516486847829657\n",
    "- RMSE:  552.1948022719125"
   ]
  },
  {
   "cell_type": "code",
   "execution_count": null,
   "id": "39aed306",
   "metadata": {},
   "outputs": [],
   "source": []
  }
 ],
 "metadata": {
  "kernelspec": {
   "display_name": "Python 3",
   "language": "python",
   "name": "python3"
  },
  "language_info": {
   "codemirror_mode": {
    "name": "ipython",
    "version": 3
   },
   "file_extension": ".py",
   "mimetype": "text/x-python",
   "name": "python",
   "nbconvert_exporter": "python",
   "pygments_lexer": "ipython3",
   "version": "3.12.6"
  }
 },
 "nbformat": 4,
 "nbformat_minor": 5
}
