{
 "cells": [
  {
   "cell_type": "markdown",
   "id": "f0cff040",
   "metadata": {},
   "source": [
    "Outliers"
   ]
  },
  {
   "cell_type": "code",
   "execution_count": 17,
   "id": "dce2937e",
   "metadata": {},
   "outputs": [],
   "source": [
    "import numpy as np\n",
    "import pandas as pd\n",
    "import matplotlib.pyplot as plt\n",
    "import seaborn as sns"
   ]
  },
  {
   "cell_type": "code",
   "execution_count": 18,
   "id": "eed4c08a",
   "metadata": {},
   "outputs": [
    {
     "data": {
      "text/html": [
       "<div>\n",
       "<style scoped>\n",
       "    .dataframe tbody tr th:only-of-type {\n",
       "        vertical-align: middle;\n",
       "    }\n",
       "\n",
       "    .dataframe tbody tr th {\n",
       "        vertical-align: top;\n",
       "    }\n",
       "\n",
       "    .dataframe thead th {\n",
       "        text-align: right;\n",
       "    }\n",
       "</style>\n",
       "<table border=\"1\" class=\"dataframe\">\n",
       "  <thead>\n",
       "    <tr style=\"text-align: right;\">\n",
       "      <th></th>\n",
       "      <th>Age</th>\n",
       "    </tr>\n",
       "  </thead>\n",
       "  <tbody>\n",
       "    <tr>\n",
       "      <th>0</th>\n",
       "      <td>11</td>\n",
       "    </tr>\n",
       "    <tr>\n",
       "      <th>1</th>\n",
       "      <td>12</td>\n",
       "    </tr>\n",
       "    <tr>\n",
       "      <th>2</th>\n",
       "      <td>13</td>\n",
       "    </tr>\n",
       "    <tr>\n",
       "      <th>3</th>\n",
       "      <td>14</td>\n",
       "    </tr>\n",
       "    <tr>\n",
       "      <th>4</th>\n",
       "      <td>15</td>\n",
       "    </tr>\n",
       "    <tr>\n",
       "      <th>5</th>\n",
       "      <td>16</td>\n",
       "    </tr>\n",
       "    <tr>\n",
       "      <th>6</th>\n",
       "      <td>17</td>\n",
       "    </tr>\n",
       "    <tr>\n",
       "      <th>7</th>\n",
       "      <td>18</td>\n",
       "    </tr>\n",
       "    <tr>\n",
       "      <th>8</th>\n",
       "      <td>19</td>\n",
       "    </tr>\n",
       "    <tr>\n",
       "      <th>9</th>\n",
       "      <td>20</td>\n",
       "    </tr>\n",
       "    <tr>\n",
       "      <th>10</th>\n",
       "      <td>50</td>\n",
       "    </tr>\n",
       "  </tbody>\n",
       "</table>\n",
       "</div>"
      ],
      "text/plain": [
       "    Age\n",
       "0    11\n",
       "1    12\n",
       "2    13\n",
       "3    14\n",
       "4    15\n",
       "5    16\n",
       "6    17\n",
       "7    18\n",
       "8    19\n",
       "9    20\n",
       "10   50"
      ]
     },
     "execution_count": 18,
     "metadata": {},
     "output_type": "execute_result"
    }
   ],
   "source": [
    "data=pd.DataFrame({'Age':[11,12,13,14,15,16,17,18,19,20,50]})\n",
    "data"
   ]
  },
  {
   "cell_type": "code",
   "execution_count": 19,
   "id": "8e350284",
   "metadata": {},
   "outputs": [
    {
     "data": {
      "text/plain": [
       "<Axes: xlabel='Age', ylabel='Count'>"
      ]
     },
     "execution_count": 19,
     "metadata": {},
     "output_type": "execute_result"
    },
    {
     "data": {
      "image/png": "[encoded data removed]",
      "text/plain": [
       "<Figure size 640x480 with 1 Axes>"
      ]
     },
     "metadata": {},
     "output_type": "display_data"
    }
   ],
   "source": [
    "sns.histplot(data['Age'],bins=5,kde=True)"
   ]
  },
  {
   "cell_type": "code",
   "execution_count": 20,
   "id": "8366f9c8",
   "metadata": {},
   "outputs": [],
   "source": [
    "data['mean']=np.mean(data['Age'])\n",
    "data['std']=np.std(data['Age'])"
   ]
  },
  {
   "cell_type": "code",
   "execution_count": 21,
   "id": "3a576193",
   "metadata": {},
   "outputs": [],
   "source": [
    "data['z_score']=(data['Age']-data['mean'])/data['std']"
   ]
  },
  {
   "cell_type": "code",
   "execution_count": 22,
   "id": "6529297d",
   "metadata": {},
   "outputs": [
    {
     "name": "stdout",
     "output_type": "stream",
     "text": [
      "========================================\n",
      "Here is the data with outliers:\n",
      "     Age       mean        std   z_score\n",
      "0    11  18.636364  10.289206 -0.742172\n",
      "1    12  18.636364  10.289206 -0.644983\n",
      "2    13  18.636364  10.289206 -0.547794\n",
      "3    14  18.636364  10.289206 -0.450605\n",
      "4    15  18.636364  10.289206 -0.353415\n",
      "5    16  18.636364  10.289206 -0.256226\n",
      "6    17  18.636364  10.289206 -0.159037\n",
      "7    18  18.636364  10.289206 -0.061848\n",
      "8    19  18.636364  10.289206  0.035342\n",
      "9    20  18.636364  10.289206  0.132531\n",
      "10   50  18.636364  10.289206  3.048208\n",
      "========================================\n"
     ]
    }
   ],
   "source": [
    "print('========================================')\n",
    "print('Here is the data with outliers:\\n',data)\n",
    "print('========================================')"
   ]
  },
  {
   "cell_type": "code",
   "execution_count": 23,
   "id": "81ad1d28",
   "metadata": {},
   "outputs": [
    {
     "name": "stdout",
     "output_type": "stream",
     "text": [
      "Outliers based on threshold, 3:\n"
     ]
    },
    {
     "data": {
      "text/html": [
       "<div>\n",
       "<style scoped>\n",
       "    .dataframe tbody tr th:only-of-type {\n",
       "        vertical-align: middle;\n",
       "    }\n",
       "\n",
       "    .dataframe tbody tr th {\n",
       "        vertical-align: top;\n",
       "    }\n",
       "\n",
       "    .dataframe thead th {\n",
       "        text-align: right;\n",
       "    }\n",
       "</style>\n",
       "<table border=\"1\" class=\"dataframe\">\n",
       "  <thead>\n",
       "    <tr style=\"text-align: right;\">\n",
       "      <th></th>\n",
       "      <th>Age</th>\n",
       "      <th>mean</th>\n",
       "      <th>std</th>\n",
       "      <th>z_score</th>\n",
       "    </tr>\n",
       "  </thead>\n",
       "  <tbody>\n",
       "    <tr>\n",
       "      <th>10</th>\n",
       "      <td>50</td>\n",
       "      <td>18.636364</td>\n",
       "      <td>10.289206</td>\n",
       "      <td>3.048208</td>\n",
       "    </tr>\n",
       "  </tbody>\n",
       "</table>\n",
       "</div>"
      ],
      "text/plain": [
       "    Age       mean        std   z_score\n",
       "10   50  18.636364  10.289206  3.048208"
      ]
     },
     "execution_count": 23,
     "metadata": {},
     "output_type": "execute_result"
    }
   ],
   "source": [
    "df=data[data['z_score']>3]\n",
    "print('Outliers based on threshold, 3:')\n",
    "df"
   ]
  },
  {
   "cell_type": "code",
   "execution_count": 24,
   "id": "f06f2fcd",
   "metadata": {},
   "outputs": [
    {
     "name": "stdout",
     "output_type": "stream",
     "text": [
      "Here data without Outliers:\n"
     ]
    },
    {
     "data": {
      "text/html": [
       "<div>\n",
       "<style scoped>\n",
       "    .dataframe tbody tr th:only-of-type {\n",
       "        vertical-align: middle;\n",
       "    }\n",
       "\n",
       "    .dataframe tbody tr th {\n",
       "        vertical-align: top;\n",
       "    }\n",
       "\n",
       "    .dataframe thead th {\n",
       "        text-align: right;\n",
       "    }\n",
       "</style>\n",
       "<table border=\"1\" class=\"dataframe\">\n",
       "  <thead>\n",
       "    <tr style=\"text-align: right;\">\n",
       "      <th></th>\n",
       "      <th>Age</th>\n",
       "      <th>mean</th>\n",
       "      <th>std</th>\n",
       "      <th>z_score</th>\n",
       "    </tr>\n",
       "  </thead>\n",
       "  <tbody>\n",
       "    <tr>\n",
       "      <th>0</th>\n",
       "      <td>11</td>\n",
       "      <td>18.636364</td>\n",
       "      <td>10.289206</td>\n",
       "      <td>-0.742172</td>\n",
       "    </tr>\n",
       "    <tr>\n",
       "      <th>1</th>\n",
       "      <td>12</td>\n",
       "      <td>18.636364</td>\n",
       "      <td>10.289206</td>\n",
       "      <td>-0.644983</td>\n",
       "    </tr>\n",
       "    <tr>\n",
       "      <th>2</th>\n",
       "      <td>13</td>\n",
       "      <td>18.636364</td>\n",
       "      <td>10.289206</td>\n",
       "      <td>-0.547794</td>\n",
       "    </tr>\n",
       "    <tr>\n",
       "      <th>3</th>\n",
       "      <td>14</td>\n",
       "      <td>18.636364</td>\n",
       "      <td>10.289206</td>\n",
       "      <td>-0.450605</td>\n",
       "    </tr>\n",
       "    <tr>\n",
       "      <th>4</th>\n",
       "      <td>15</td>\n",
       "      <td>18.636364</td>\n",
       "      <td>10.289206</td>\n",
       "      <td>-0.353415</td>\n",
       "    </tr>\n",
       "    <tr>\n",
       "      <th>5</th>\n",
       "      <td>16</td>\n",
       "      <td>18.636364</td>\n",
       "      <td>10.289206</td>\n",
       "      <td>-0.256226</td>\n",
       "    </tr>\n",
       "    <tr>\n",
       "      <th>6</th>\n",
       "      <td>17</td>\n",
       "      <td>18.636364</td>\n",
       "      <td>10.289206</td>\n",
       "      <td>-0.159037</td>\n",
       "    </tr>\n",
       "    <tr>\n",
       "      <th>7</th>\n",
       "      <td>18</td>\n",
       "      <td>18.636364</td>\n",
       "      <td>10.289206</td>\n",
       "      <td>-0.061848</td>\n",
       "    </tr>\n",
       "    <tr>\n",
       "      <th>8</th>\n",
       "      <td>19</td>\n",
       "      <td>18.636364</td>\n",
       "      <td>10.289206</td>\n",
       "      <td>0.035342</td>\n",
       "    </tr>\n",
       "    <tr>\n",
       "      <th>9</th>\n",
       "      <td>20</td>\n",
       "      <td>18.636364</td>\n",
       "      <td>10.289206</td>\n",
       "      <td>0.132531</td>\n",
       "    </tr>\n",
       "  </tbody>\n",
       "</table>\n",
       "</div>"
      ],
      "text/plain": [
       "   Age       mean        std   z_score\n",
       "0   11  18.636364  10.289206 -0.742172\n",
       "1   12  18.636364  10.289206 -0.644983\n",
       "2   13  18.636364  10.289206 -0.547794\n",
       "3   14  18.636364  10.289206 -0.450605\n",
       "4   15  18.636364  10.289206 -0.353415\n",
       "5   16  18.636364  10.289206 -0.256226\n",
       "6   17  18.636364  10.289206 -0.159037\n",
       "7   18  18.636364  10.289206 -0.061848\n",
       "8   19  18.636364  10.289206  0.035342\n",
       "9   20  18.636364  10.289206  0.132531"
      ]
     },
     "execution_count": 24,
     "metadata": {},
     "output_type": "execute_result"
    }
   ],
   "source": [
    "# Remove outliers\n",
    "data=data[data['z_score']<=3]\n",
    "print('Here data without Outliers:')\n",
    "data"
   ]
  },
  {
   "cell_type": "code",
   "execution_count": 25,
   "id": "3f9cb34c",
   "metadata": {},
   "outputs": [],
   "source": [
    "import numpy as np\n",
    "from scipy import stats"
   ]
  },
  {
   "cell_type": "code",
   "execution_count": 26,
   "id": "56ddffb3",
   "metadata": {},
   "outputs": [],
   "source": [
    "data=[12,13,14,15,16,17,18,19,20,70]\n",
    "z_score=np.abs(stats.zscore(data))\n",
    "\n",
    "threshold=2.5\n",
    "outliers=np.where(z_score>threshold)[0]"
   ]
  },
  {
   "cell_type": "code",
   "execution_count": 27,
   "id": "ab8606d6",
   "metadata": {},
   "outputs": [
    {
     "name": "stdout",
     "output_type": "stream",
     "text": [
      "Here the index outliers:  [9]\n",
      "Here the outliers:  [70]\n",
      "======================================\n",
      "Without outliers: \n",
      " [12, 13, 14, 15, 16, 17, 18, 19, 20]\n",
      "======================================\n"
     ]
    }
   ],
   "source": [
    "print('Here the index outliers: ',outliers)\n",
    "print('Here the outliers: ',[data[i] for i in outliers])\n",
    "print('======================================')\n",
    "print('Without outliers: \\n',[data[i] for i in range(len(data)) if i not in outliers ])\n",
    "print('======================================')"
   ]
  },
  {
   "cell_type": "markdown",
   "id": "1fa2014d",
   "metadata": {},
   "source": [
    "Use sklearn to remove outliers"
   ]
  },
  {
   "cell_type": "code",
   "execution_count": 28,
   "id": "5eca706f",
   "metadata": {},
   "outputs": [
    {
     "data": {
      "text/plain": [
       "[[2, 2], [3, 3], [3, 4], [30, 30], [31, 31], [32, 32]]"
      ]
     },
     "execution_count": 28,
     "metadata": {},
     "output_type": "execute_result"
    }
   ],
   "source": [
    "from sklearn.cluster import KMeans\n",
    "data=[[2,2],[3,3],[3,4],[30,30],[31,31],[32,32]]\n",
    "data"
   ]
  },
  {
   "cell_type": "code",
   "execution_count": 29,
   "id": "c11626f3",
   "metadata": {},
   "outputs": [],
   "source": [
    "kmeans=KMeans(n_clusters=2,n_init=10)\n",
    "kmeans.fit(data)\n",
    "labels=kmeans.predict(data)"
   ]
  },
  {
   "cell_type": "code",
   "execution_count": 30,
   "id": "86040685",
   "metadata": {},
   "outputs": [],
   "source": [
    "outliers=[data[i] for i,label in enumerate(labels) if label==0]"
   ]
  },
  {
   "cell_type": "code",
   "execution_count": 31,
   "id": "7c8a8f5a",
   "metadata": {},
   "outputs": [
    {
     "name": "stdout",
     "output_type": "stream",
     "text": [
      "Outliers:  [[30, 30], [31, 31], [32, 32]]\n"
     ]
    }
   ],
   "source": [
    "print('Outliers: ',outliers)"
   ]
  },
  {
   "cell_type": "code",
   "execution_count": 32,
   "id": "a9881615",
   "metadata": {},
   "outputs": [
    {
     "name": "stdout",
     "output_type": "stream",
     "text": [
      "Data without outliers:  [[2, 2], [3, 3], [3, 4]]\n"
     ]
    }
   ],
   "source": [
    "data=[data[i] for i,label in enumerate(labels) if label==1]\n",
    "print('Data without outliers: ',data)"
   ]
  },
  {
   "cell_type": "code",
   "execution_count": null,
   "id": "c83febf3",
   "metadata": {},
   "outputs": [],
   "source": []
  }
 ],
 "metadata": {
  "kernelspec": {
   "display_name": "Python 3",
   "language": "python",
   "name": "python3"
  },
  "language_info": {
   "codemirror_mode": {
    "name": "ipython",
    "version": 3
   },
   "file_extension": ".py",
   "mimetype": "text/x-python",
   "name": "python",
   "nbconvert_exporter": "python",
   "pygments_lexer": "ipython3",
   "version": "3.12.6"
  }
 },
 "nbformat": 4,
 "nbformat_minor": 5
}
